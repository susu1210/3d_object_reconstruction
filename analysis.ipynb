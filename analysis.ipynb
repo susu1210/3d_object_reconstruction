{
 "cells": [
  {
   "cell_type": "code",
   "execution_count": 1,
   "id": "923c0334",
   "metadata": {},
   "outputs": [],
   "source": [
    "import pandas as pd\n",
    "import numpy as np\n",
    "import seaborn as sns\n",
    "import os\n",
    "from tabulate import tabulate"
   ]
  },
  {
   "cell_type": "markdown",
   "id": "fa5efa00",
   "metadata": {},
   "source": [
    "## Segmentation Method Comparison\n",
    "Metrics: IoU(Intersection over Union), F1 score, false positive rate averaged on video frames"
   ]
  },
  {
   "cell_type": "code",
   "execution_count": 2,
   "id": "b8f66f03",
   "metadata": {},
   "outputs": [
    {
     "data": {
      "text/html": [
       "<div>\n",
       "<style scoped>\n",
       "    .dataframe tbody tr th:only-of-type {\n",
       "        vertical-align: middle;\n",
       "    }\n",
       "\n",
       "    .dataframe tbody tr th {\n",
       "        vertical-align: top;\n",
       "    }\n",
       "\n",
       "    .dataframe thead th {\n",
       "        text-align: right;\n",
       "    }\n",
       "</style>\n",
       "<table border=\"1\" class=\"dataframe\">\n",
       "  <thead>\n",
       "    <tr style=\"text-align: right;\">\n",
       "      <th></th>\n",
       "      <th>seg method</th>\n",
       "      <th>data type</th>\n",
       "      <th>object name</th>\n",
       "      <th>IoU</th>\n",
       "      <th>F1</th>\n",
       "      <th>FP rate</th>\n",
       "    </tr>\n",
       "  </thead>\n",
       "  <tbody>\n",
       "    <tr>\n",
       "      <th>0</th>\n",
       "      <td>BackFlow</td>\n",
       "      <td>Data</td>\n",
       "      <td>YcbMustardBottle</td>\n",
       "      <td>0.907731</td>\n",
       "      <td>0.931602</td>\n",
       "      <td>0.076235</td>\n",
       "    </tr>\n",
       "    <tr>\n",
       "      <th>1</th>\n",
       "      <td>BackFlow</td>\n",
       "      <td>Data</td>\n",
       "      <td>YcbGelatinBox</td>\n",
       "      <td>0.883326</td>\n",
       "      <td>0.934864</td>\n",
       "      <td>0.115640</td>\n",
       "    </tr>\n",
       "    <tr>\n",
       "      <th>2</th>\n",
       "      <td>BackFlow</td>\n",
       "      <td>Data</td>\n",
       "      <td>YcbPottedMeatCan</td>\n",
       "      <td>0.898410</td>\n",
       "      <td>0.945141</td>\n",
       "      <td>0.097698</td>\n",
       "    </tr>\n",
       "    <tr>\n",
       "      <th>3</th>\n",
       "      <td>BackFlow</td>\n",
       "      <td>Data</td>\n",
       "      <td>YcbTomatoSoupCan</td>\n",
       "      <td>0.871855</td>\n",
       "      <td>0.929788</td>\n",
       "      <td>0.124419</td>\n",
       "    </tr>\n",
       "    <tr>\n",
       "      <th>4</th>\n",
       "      <td>BackFlow</td>\n",
       "      <td>Data</td>\n",
       "      <td>YcbCrackerBox</td>\n",
       "      <td>0.961743</td>\n",
       "      <td>0.978536</td>\n",
       "      <td>0.032422</td>\n",
       "    </tr>\n",
       "  </tbody>\n",
       "</table>\n",
       "</div>"
      ],
      "text/plain": [
       "  seg method data type       object name       IoU        F1   FP rate\n",
       "0   BackFlow      Data  YcbMustardBottle  0.907731  0.931602  0.076235\n",
       "1   BackFlow      Data     YcbGelatinBox  0.883326  0.934864  0.115640\n",
       "2   BackFlow      Data  YcbPottedMeatCan  0.898410  0.945141  0.097698\n",
       "3   BackFlow      Data  YcbTomatoSoupCan  0.871855  0.929788  0.124419\n",
       "4   BackFlow      Data     YcbCrackerBox  0.961743  0.978536  0.032422"
      ]
     },
     "execution_count": 2,
     "metadata": {},
     "output_type": "execute_result"
    }
   ],
   "source": [
    "seg_results = pd.read_csv(os.path.join(os.getcwd(), \"seg_comparison.csv\"))\n",
    "seg_results.head()"
   ]
  },
  {
   "cell_type": "code",
   "execution_count": 3,
   "id": "a33d8391",
   "metadata": {},
   "outputs": [
    {
     "data": {
      "text/html": [
       "<div>\n",
       "<style scoped>\n",
       "    .dataframe tbody tr th:only-of-type {\n",
       "        vertical-align: middle;\n",
       "    }\n",
       "\n",
       "    .dataframe tbody tr th {\n",
       "        vertical-align: top;\n",
       "    }\n",
       "\n",
       "    .dataframe thead th {\n",
       "        text-align: right;\n",
       "    }\n",
       "</style>\n",
       "<table border=\"1\" class=\"dataframe\">\n",
       "  <thead>\n",
       "    <tr style=\"text-align: right;\">\n",
       "      <th></th>\n",
       "      <th>seg method</th>\n",
       "      <th>data type</th>\n",
       "      <th>object name</th>\n",
       "      <th>IoU</th>\n",
       "      <th>F1</th>\n",
       "      <th>FP rate</th>\n",
       "    </tr>\n",
       "  </thead>\n",
       "  <tbody>\n",
       "    <tr>\n",
       "      <th>27</th>\n",
       "      <td>OSVOS</td>\n",
       "      <td>Data_stuck</td>\n",
       "      <td>YcbTomatoSoupCan</td>\n",
       "      <td>0.899331</td>\n",
       "      <td>0.946114</td>\n",
       "      <td>0.071509</td>\n",
       "    </tr>\n",
       "    <tr>\n",
       "      <th>28</th>\n",
       "      <td>OSVOS</td>\n",
       "      <td>Data_stuck</td>\n",
       "      <td>YcbCrackerBox</td>\n",
       "      <td>0.980633</td>\n",
       "      <td>0.990175</td>\n",
       "      <td>0.015067</td>\n",
       "    </tr>\n",
       "    <tr>\n",
       "      <th>29</th>\n",
       "      <td>OSVOS</td>\n",
       "      <td>Data_stuck</td>\n",
       "      <td>YcbSugarBox</td>\n",
       "      <td>0.905609</td>\n",
       "      <td>0.948766</td>\n",
       "      <td>0.048143</td>\n",
       "    </tr>\n",
       "    <tr>\n",
       "      <th>30</th>\n",
       "      <td>OSVOS</td>\n",
       "      <td>Data_stuck</td>\n",
       "      <td>YcbBanana</td>\n",
       "      <td>0.924367</td>\n",
       "      <td>0.960452</td>\n",
       "      <td>0.074216</td>\n",
       "    </tr>\n",
       "    <tr>\n",
       "      <th>31</th>\n",
       "      <td>OSVOS</td>\n",
       "      <td>Data_stuck</td>\n",
       "      <td>YcbTennisBall</td>\n",
       "      <td>0.886893</td>\n",
       "      <td>0.939427</td>\n",
       "      <td>0.111143</td>\n",
       "    </tr>\n",
       "  </tbody>\n",
       "</table>\n",
       "</div>"
      ],
      "text/plain": [
       "   seg method   data type       object name       IoU        F1   FP rate\n",
       "27      OSVOS  Data_stuck  YcbTomatoSoupCan  0.899331  0.946114  0.071509\n",
       "28      OSVOS  Data_stuck     YcbCrackerBox  0.980633  0.990175  0.015067\n",
       "29      OSVOS  Data_stuck       YcbSugarBox  0.905609  0.948766  0.048143\n",
       "30      OSVOS  Data_stuck         YcbBanana  0.924367  0.960452  0.074216\n",
       "31      OSVOS  Data_stuck     YcbTennisBall  0.886893  0.939427  0.111143"
      ]
     },
     "execution_count": 3,
     "metadata": {},
     "output_type": "execute_result"
    }
   ],
   "source": [
    "seg_results.tail()"
   ]
  },
  {
   "cell_type": "code",
   "execution_count": 4,
   "id": "9723b770",
   "metadata": {},
   "outputs": [
    {
     "name": "stdout",
     "output_type": "stream",
     "text": [
      "seg method        mIoU        F1    FP rate\n",
      "------------  --------  --------  ---------\n",
      "BackFlow      0.896087  0.939715  0.0879889\n",
      "OSVOS         0.909781  0.950612  0.0719721\n"
     ]
    }
   ],
   "source": [
    "seg_method = seg_results['seg method'].unique()\n",
    "table = []\n",
    "for s in seg_method:\n",
    "    table.append([str(s), np.mean(seg_results.loc[seg_results['seg method'] == s]['IoU']),\n",
    "                 np.mean(seg_results.loc[seg_results['seg method'] == s]['F1']),\n",
    "                 np.mean(seg_results.loc[seg_results['seg method'] == s]['FP rate'])])\n",
    "print(tabulate(table, headers=['seg method', 'mIoU','F1','FP rate']))"
   ]
  },
  {
   "cell_type": "markdown",
   "id": "df32d7a8",
   "metadata": {},
   "source": [
    "OSVOS performs better than BackFlow on three different metrics.\n",
    "Note that: FP rate is relatively more important for reconstruction, because it's worse if the background is involved in reconstructed model."
   ]
  },
  {
   "cell_type": "code",
   "execution_count": 5,
   "id": "0b6aa290",
   "metadata": {},
   "outputs": [
    {
     "data": {
      "text/plain": [
       "<AxesSubplot:xlabel='seg method', ylabel='IoU'>"
      ]
     },
     "execution_count": 5,
     "metadata": {},
     "output_type": "execute_result"
    },
    {
     "data": {
      "image/png": "[encoded data removed]",
      "text/plain": [
       "<Figure size 864x720 with 1 Axes>"
      ]
     },
     "metadata": {
      "needs_background": "light"
     },
     "output_type": "display_data"
    }
   ],
   "source": [
    "sns.set_context({\"figure.figsize\":(12,10)})\n",
    "sns.stripplot(x=\"seg method\",y=\"IoU\",data=seg_results,jitter=True,hue=\"object name\", dodge=True) "
   ]
  },
  {
   "cell_type": "markdown",
   "id": "4ae18b5c",
   "metadata": {},
   "source": [
    "BackFlow works not so well on 'YcbBanana'."
   ]
  },
  {
   "cell_type": "markdown",
   "id": "22cc6723",
   "metadata": {},
   "source": [
    "# Reconstruction Algorithm Comparison\n",
    "Metrics: mean usdf(unsigned distance fields) averaged on points in point-cloud, mean and RMS hausdorff distance( calculated bi-directionally)"
   ]
  },
  {
   "cell_type": "code",
   "execution_count": 6,
   "id": "b03e4683",
   "metadata": {
    "scrolled": true
   },
   "outputs": [
    {
     "data": {
      "text/html": [
       "<div>\n",
       "<style scoped>\n",
       "    .dataframe tbody tr th:only-of-type {\n",
       "        vertical-align: middle;\n",
       "    }\n",
       "\n",
       "    .dataframe tbody tr th {\n",
       "        vertical-align: top;\n",
       "    }\n",
       "\n",
       "    .dataframe thead th {\n",
       "        text-align: right;\n",
       "    }\n",
       "</style>\n",
       "<table border=\"1\" class=\"dataframe\">\n",
       "  <thead>\n",
       "    <tr style=\"text-align: right;\">\n",
       "      <th></th>\n",
       "      <th>Data Path</th>\n",
       "      <th>Object Name</th>\n",
       "      <th>Segmentation Method</th>\n",
       "      <th>Reconstruction Method</th>\n",
       "      <th>mean usdf</th>\n",
       "      <th>mean sdf</th>\n",
       "      <th>mean squared sdf</th>\n",
       "      <th>mean haus dist</th>\n",
       "      <th>min haus dist</th>\n",
       "      <th>max haus dist</th>\n",
       "      <th>RMS haus dist</th>\n",
       "    </tr>\n",
       "  </thead>\n",
       "  <tbody>\n",
       "    <tr>\n",
       "      <th>0</th>\n",
       "      <td>Data</td>\n",
       "      <td>YcbMustardBottle</td>\n",
       "      <td>BackFlow</td>\n",
       "      <td>point-to-plane</td>\n",
       "      <td>0.005118</td>\n",
       "      <td>0.004831</td>\n",
       "      <td>0.002085</td>\n",
       "      <td>0.000447</td>\n",
       "      <td>0.000018</td>\n",
       "      <td>0.006136</td>\n",
       "      <td>0.000554</td>\n",
       "    </tr>\n",
       "    <tr>\n",
       "      <th>1</th>\n",
       "      <td>Data</td>\n",
       "      <td>YcbMustardBottle</td>\n",
       "      <td>BackFlow</td>\n",
       "      <td>robot-joints</td>\n",
       "      <td>0.003591</td>\n",
       "      <td>-0.000722</td>\n",
       "      <td>0.000038</td>\n",
       "      <td>0.001659</td>\n",
       "      <td>0.000002</td>\n",
       "      <td>0.011219</td>\n",
       "      <td>0.002553</td>\n",
       "    </tr>\n",
       "    <tr>\n",
       "      <th>2</th>\n",
       "      <td>Data</td>\n",
       "      <td>YcbMustardBottle</td>\n",
       "      <td>OSVOS</td>\n",
       "      <td>point-to-plane</td>\n",
       "      <td>0.000976</td>\n",
       "      <td>0.000704</td>\n",
       "      <td>0.000033</td>\n",
       "      <td>0.000699</td>\n",
       "      <td>0.000016</td>\n",
       "      <td>0.006298</td>\n",
       "      <td>0.000795</td>\n",
       "    </tr>\n",
       "    <tr>\n",
       "      <th>3</th>\n",
       "      <td>Data</td>\n",
       "      <td>YcbMustardBottle</td>\n",
       "      <td>OSVOS</td>\n",
       "      <td>robot-joints</td>\n",
       "      <td>0.002858</td>\n",
       "      <td>-0.001444</td>\n",
       "      <td>0.000017</td>\n",
       "      <td>0.001653</td>\n",
       "      <td>0.000002</td>\n",
       "      <td>0.011219</td>\n",
       "      <td>0.002551</td>\n",
       "    </tr>\n",
       "    <tr>\n",
       "      <th>4</th>\n",
       "      <td>Data_stuck</td>\n",
       "      <td>YcbMustardBottle</td>\n",
       "      <td>BackFlow</td>\n",
       "      <td>point-to-plane</td>\n",
       "      <td>0.004801</td>\n",
       "      <td>0.004575</td>\n",
       "      <td>0.001804</td>\n",
       "      <td>0.000440</td>\n",
       "      <td>0.000015</td>\n",
       "      <td>0.004941</td>\n",
       "      <td>0.000565</td>\n",
       "    </tr>\n",
       "  </tbody>\n",
       "</table>\n",
       "</div>"
      ],
      "text/plain": [
       "    Data Path       Object Name Segmentation Method Reconstruction Method  \\\n",
       "0        Data  YcbMustardBottle            BackFlow        point-to-plane   \n",
       "1        Data  YcbMustardBottle            BackFlow          robot-joints   \n",
       "2        Data  YcbMustardBottle               OSVOS        point-to-plane   \n",
       "3        Data  YcbMustardBottle               OSVOS          robot-joints   \n",
       "4  Data_stuck  YcbMustardBottle            BackFlow        point-to-plane   \n",
       "\n",
       "   mean usdf  mean sdf  mean squared sdf  mean haus dist  min haus dist  \\\n",
       "0   0.005118  0.004831          0.002085        0.000447       0.000018   \n",
       "1   0.003591 -0.000722          0.000038        0.001659       0.000002   \n",
       "2   0.000976  0.000704          0.000033        0.000699       0.000016   \n",
       "3   0.002858 -0.001444          0.000017        0.001653       0.000002   \n",
       "4   0.004801  0.004575          0.001804        0.000440       0.000015   \n",
       "\n",
       "   max haus dist  RMS haus dist  \n",
       "0       0.006136       0.000554  \n",
       "1       0.011219       0.002553  \n",
       "2       0.006298       0.000795  \n",
       "3       0.011219       0.002551  \n",
       "4       0.004941       0.000565  "
      ]
     },
     "execution_count": 6,
     "metadata": {},
     "output_type": "execute_result"
    }
   ],
   "source": [
    "recon_results = pd.read_csv(os.path.join(os.getcwd(), \"recon_comparison.csv\"))\n",
    "recon_results.head()"
   ]
  },
  {
   "cell_type": "code",
   "execution_count": 7,
   "id": "3d50f216",
   "metadata": {},
   "outputs": [
    {
     "data": {
      "text/html": [
       "<div>\n",
       "<style scoped>\n",
       "    .dataframe tbody tr th:only-of-type {\n",
       "        vertical-align: middle;\n",
       "    }\n",
       "\n",
       "    .dataframe tbody tr th {\n",
       "        vertical-align: top;\n",
       "    }\n",
       "\n",
       "    .dataframe thead th {\n",
       "        text-align: right;\n",
       "    }\n",
       "</style>\n",
       "<table border=\"1\" class=\"dataframe\">\n",
       "  <thead>\n",
       "    <tr style=\"text-align: right;\">\n",
       "      <th></th>\n",
       "      <th>Data Path</th>\n",
       "      <th>Object Name</th>\n",
       "      <th>Segmentation Method</th>\n",
       "      <th>Reconstruction Method</th>\n",
       "      <th>mean usdf</th>\n",
       "      <th>mean sdf</th>\n",
       "      <th>mean squared sdf</th>\n",
       "      <th>mean haus dist</th>\n",
       "      <th>min haus dist</th>\n",
       "      <th>max haus dist</th>\n",
       "      <th>RMS haus dist</th>\n",
       "    </tr>\n",
       "  </thead>\n",
       "  <tbody>\n",
       "    <tr>\n",
       "      <th>59</th>\n",
       "      <td>Data</td>\n",
       "      <td>YcbTennisBall</td>\n",
       "      <td>OSVOS</td>\n",
       "      <td>robot-joints</td>\n",
       "      <td>0.002057</td>\n",
       "      <td>-0.000395</td>\n",
       "      <td>0.000020</td>\n",
       "      <td>0.000917</td>\n",
       "      <td>0.000008</td>\n",
       "      <td>0.005071</td>\n",
       "      <td>0.001148</td>\n",
       "    </tr>\n",
       "    <tr>\n",
       "      <th>60</th>\n",
       "      <td>Data_stuck</td>\n",
       "      <td>YcbTennisBall</td>\n",
       "      <td>BackFlow</td>\n",
       "      <td>point-to-plane</td>\n",
       "      <td>0.454618</td>\n",
       "      <td>0.454606</td>\n",
       "      <td>0.272326</td>\n",
       "      <td>0.003165</td>\n",
       "      <td>0.000022</td>\n",
       "      <td>0.022919</td>\n",
       "      <td>0.005867</td>\n",
       "    </tr>\n",
       "    <tr>\n",
       "      <th>61</th>\n",
       "      <td>Data_stuck</td>\n",
       "      <td>YcbTennisBall</td>\n",
       "      <td>BackFlow</td>\n",
       "      <td>robot-joints</td>\n",
       "      <td>0.001534</td>\n",
       "      <td>0.001095</td>\n",
       "      <td>0.000025</td>\n",
       "      <td>0.000450</td>\n",
       "      <td>0.000011</td>\n",
       "      <td>0.006698</td>\n",
       "      <td>0.000669</td>\n",
       "    </tr>\n",
       "    <tr>\n",
       "      <th>62</th>\n",
       "      <td>Data_stuck</td>\n",
       "      <td>YcbTennisBall</td>\n",
       "      <td>OSVOS</td>\n",
       "      <td>point-to-plane</td>\n",
       "      <td>0.015826</td>\n",
       "      <td>0.015702</td>\n",
       "      <td>0.013439</td>\n",
       "      <td>0.002624</td>\n",
       "      <td>0.000017</td>\n",
       "      <td>0.024916</td>\n",
       "      <td>0.005066</td>\n",
       "    </tr>\n",
       "    <tr>\n",
       "      <th>63</th>\n",
       "      <td>Data_stuck</td>\n",
       "      <td>YcbTennisBall</td>\n",
       "      <td>OSVOS</td>\n",
       "      <td>robot-joints</td>\n",
       "      <td>0.001028</td>\n",
       "      <td>0.000571</td>\n",
       "      <td>0.000044</td>\n",
       "      <td>0.000464</td>\n",
       "      <td>0.000014</td>\n",
       "      <td>0.006669</td>\n",
       "      <td>0.000713</td>\n",
       "    </tr>\n",
       "  </tbody>\n",
       "</table>\n",
       "</div>"
      ],
      "text/plain": [
       "     Data Path    Object Name Segmentation Method Reconstruction Method  \\\n",
       "59        Data  YcbTennisBall               OSVOS          robot-joints   \n",
       "60  Data_stuck  YcbTennisBall            BackFlow        point-to-plane   \n",
       "61  Data_stuck  YcbTennisBall            BackFlow          robot-joints   \n",
       "62  Data_stuck  YcbTennisBall               OSVOS        point-to-plane   \n",
       "63  Data_stuck  YcbTennisBall               OSVOS          robot-joints   \n",
       "\n",
       "    mean usdf  mean sdf  mean squared sdf  mean haus dist  min haus dist  \\\n",
       "59   0.002057 -0.000395          0.000020        0.000917       0.000008   \n",
       "60   0.454618  0.454606          0.272326        0.003165       0.000022   \n",
       "61   0.001534  0.001095          0.000025        0.000450       0.000011   \n",
       "62   0.015826  0.015702          0.013439        0.002624       0.000017   \n",
       "63   0.001028  0.000571          0.000044        0.000464       0.000014   \n",
       "\n",
       "    max haus dist  RMS haus dist  \n",
       "59       0.005071       0.001148  \n",
       "60       0.022919       0.005867  \n",
       "61       0.006698       0.000669  \n",
       "62       0.024916       0.005066  \n",
       "63       0.006669       0.000713  "
      ]
     },
     "execution_count": 7,
     "metadata": {},
     "output_type": "execute_result"
    }
   ],
   "source": [
    "recon_results.tail()"
   ]
  },
  {
   "cell_type": "markdown",
   "id": "4ca02804",
   "metadata": {},
   "source": [
    "### 'Data Path' \n",
    "    'Data': generated by grasping the object.\n",
    "    'Data_stuck': generated by resetting the object with the gripper and protecting from sliding.\n",
    "### 'Reconstruction Method'\n",
    "    'point-to-plane': reconstructed with point-to-plane icp.\n",
    "    'robot-joints': reconstructed with robot end effector positions and orientations, e.g. center of two prismatic fingers for franka"
   ]
  },
  {
   "cell_type": "markdown",
   "id": "3f08486d",
   "metadata": {},
   "source": [
    "## General performance of point-to-plane icp and robot-joints"
   ]
  },
  {
   "cell_type": "code",
   "execution_count": 8,
   "id": "6d16d2a6",
   "metadata": {},
   "outputs": [],
   "source": [
    "def evaluate(data, type= 'Reconstruction Method'):\n",
    "    method = recon_results[type].unique()\n",
    "    table = []\n",
    "    for m in method:\n",
    "        table.append([str(m), np.mean(data.loc[data[type] == m]['mean usdf']),\n",
    "                     np.mean(data.loc[data[type] == m]['mean haus dist']),\n",
    "                     np.mean(data.loc[data[type] == m]['RMS haus dist'])])\n",
    "    print(tabulate(table, headers=[type, 'mean usdf','mean haus dist','RMS haus dist']))"
   ]
  },
  {
   "cell_type": "code",
   "execution_count": 9,
   "id": "47647241",
   "metadata": {},
   "outputs": [
    {
     "name": "stdout",
     "output_type": "stream",
     "text": [
      "general performance\n",
      "Reconstruction Method      mean usdf    mean haus dist    RMS haus dist\n",
      "-----------------------  -----------  ----------------  ---------------\n",
      "point-to-plane            0.327332         0.00190181        0.00286709\n",
      "robot-joints              0.00247028       0.000988605       0.00151556\n"
     ]
    }
   ],
   "source": [
    "print(\"general performance\")\n",
    "evaluate(recon_results)"
   ]
  },
  {
   "cell_type": "markdown",
   "id": "39cab6a7",
   "metadata": {},
   "source": [
    "## Performance on 'Data' or 'Data_stuck'"
   ]
  },
  {
   "cell_type": "code",
   "execution_count": 10,
   "id": "a016e444",
   "metadata": {},
   "outputs": [
    {
     "name": "stdout",
     "output_type": "stream",
     "text": [
      "Performance on 'Data'\n",
      "Reconstruction Method      mean usdf    mean haus dist    RMS haus dist\n",
      "-----------------------  -----------  ----------------  ---------------\n",
      "point-to-plane            0.622899          0.00269078       0.0038156\n",
      "robot-joints              0.00367258        0.0014477        0.00212866\n"
     ]
    }
   ],
   "source": [
    "print(\"Performance on 'Data'\")\n",
    "evaluate(recon_results.loc[recon_results['Data Path'] == 'Data'])"
   ]
  },
  {
   "cell_type": "code",
   "execution_count": 11,
   "id": "d5fa282e",
   "metadata": {},
   "outputs": [
    {
     "name": "stdout",
     "output_type": "stream",
     "text": [
      "Performance on 'Data_stuck'\n",
      "Reconstruction Method      mean usdf    mean haus dist    RMS haus dist\n",
      "-----------------------  -----------  ----------------  ---------------\n",
      "point-to-plane            0.0317661        0.00111285       0.00191859\n",
      "robot-joints              0.00126798       0.000529508      0.000902459\n"
     ]
    }
   ],
   "source": [
    "print(\"Performance on 'Data_stuck'\")\n",
    "evaluate(recon_results.loc[recon_results['Data Path'] == 'Data_stuck'])"
   ]
  },
  {
   "cell_type": "code",
   "execution_count": 12,
   "id": "b945c156",
   "metadata": {},
   "outputs": [
    {
     "data": {
      "text/plain": [
       "<AxesSubplot:xlabel='Reconstruction Method', ylabel='mean usdf'>"
      ]
     },
     "execution_count": 12,
     "metadata": {},
     "output_type": "execute_result"
    },
    {
     "data": {
      "image/png": "[encoded data removed]",
      "text/plain": [
       "<Figure size 864x720 with 1 Axes>"
      ]
     },
     "metadata": {
      "needs_background": "light"
     },
     "output_type": "display_data"
    }
   ],
   "source": [
    "sns.set_context({\"figure.figsize\":(12,10)})\n",
    "sns.stripplot(x=\"Reconstruction Method\",y=\"mean usdf\",data=recon_results,jitter=True,hue=\"Object Name\", dodge=True) "
   ]
  },
  {
   "cell_type": "markdown",
   "id": "548bf48e",
   "metadata": {},
   "source": [
    "Point-to-plane work extremely bad on YcbTennisBall. So the general performance of point-to-plane looks much worse than robot-joints.\\\n",
    "If YcbTennisBall is kicked out:"
   ]
  },
  {
   "cell_type": "code",
   "execution_count": 13,
   "id": "77b86ae5",
   "metadata": {},
   "outputs": [],
   "source": [
    "recon_results_drop = recon_results[recon_results['Object Name']!='YcbTennisBall']"
   ]
  },
  {
   "cell_type": "code",
   "execution_count": 14,
   "id": "51b9e543",
   "metadata": {},
   "outputs": [
    {
     "data": {
      "text/plain": [
       "<AxesSubplot:xlabel='Reconstruction Method', ylabel='mean usdf'>"
      ]
     },
     "execution_count": 14,
     "metadata": {},
     "output_type": "execute_result"
    },
    {
     "data": {
      "image/png": "[encoded data removed]",
      "text/plain": [
       "<Figure size 864x720 with 1 Axes>"
      ]
     },
     "metadata": {
      "needs_background": "light"
     },
     "output_type": "display_data"
    }
   ],
   "source": [
    "sns.set_context({\"figure.figsize\":(12,10)})\n",
    "sns.stripplot(x=\"Reconstruction Method\",y=\"mean usdf\",data=recon_results_drop,jitter=True,hue=\"Object Name\", dodge=True) "
   ]
  },
  {
   "cell_type": "code",
   "execution_count": 15,
   "id": "d7827b3c",
   "metadata": {},
   "outputs": [
    {
     "name": "stdout",
     "output_type": "stream",
     "text": [
      "general\n",
      "Reconstruction Method      mean usdf    mean haus dist    RMS haus dist\n",
      "-----------------------  -----------  ----------------  ---------------\n",
      "point-to-plane            0.0109608         0.00183893       0.00267426\n",
      "robot-joints              0.00253711        0.00103155       0.00160034\n",
      "\n",
      "'Data'\n",
      "Reconstruction Method      mean usdf    mean haus dist    RMS haus dist\n",
      "-----------------------  -----------  ----------------  ---------------\n",
      "point-to-plane            0.0192207         0.00281954       0.0039368\n",
      "robot-joints              0.00380814        0.0015232        0.00226799\n",
      "\n",
      "'Data_stuck'\n",
      "Reconstruction Method      mean usdf    mean haus dist    RMS haus dist\n",
      "-----------------------  -----------  ----------------  ---------------\n",
      "point-to-plane            0.00270094       0.00085832        0.00141172\n",
      "robot-joints              0.00126607       0.000539897       0.00093268\n"
     ]
    }
   ],
   "source": [
    "print(\"general\")\n",
    "evaluate(recon_results_drop)\n",
    "print(\"\\n'Data'\")\n",
    "evaluate(recon_results_drop.loc[recon_results_drop['Data Path'] == 'Data'])\n",
    "print(\"\\n'Data_stuck'\")\n",
    "evaluate(recon_results_drop.loc[recon_results_drop['Data Path'] == 'Data_stuck'])"
   ]
  },
  {
   "cell_type": "markdown",
   "id": "34cf2d2c",
   "metadata": {},
   "source": [
    "drop YcbBanana"
   ]
  },
  {
   "cell_type": "code",
   "execution_count": 16,
   "id": "b0cb0534",
   "metadata": {},
   "outputs": [
    {
     "name": "stderr",
     "output_type": "stream",
     "text": [
      "/tmp/ipykernel_43317/2632672501.py:1: UserWarning: Boolean Series key will be reindexed to match DataFrame index.\n",
      "  recon_results_drop2 = recon_results[recon_results['Object Name']!='YcbTennisBall'][recon_results['Object Name']!='YcbBanana']\n"
     ]
    }
   ],
   "source": [
    "recon_results_drop2 = recon_results[recon_results['Object Name']!='YcbTennisBall'][recon_results['Object Name']!='YcbBanana']"
   ]
  },
  {
   "cell_type": "code",
   "execution_count": 17,
   "id": "b2b4eb6e",
   "metadata": {},
   "outputs": [
    {
     "data": {
      "text/plain": [
       "<AxesSubplot:xlabel='Reconstruction Method', ylabel='mean usdf'>"
      ]
     },
     "execution_count": 17,
     "metadata": {},
     "output_type": "execute_result"
    },
    {
     "data": {
      "image/png": "[encoded data removed]",
      "text/plain": [
       "<Figure size 864x720 with 1 Axes>"
      ]
     },
     "metadata": {
      "needs_background": "light"
     },
     "output_type": "display_data"
    }
   ],
   "source": [
    "sns.set_context({\"figure.figsize\":(12,10)})\n",
    "sns.stripplot(x=\"Reconstruction Method\",y=\"mean usdf\",data=recon_results_drop2,jitter=True,hue=\"Object Name\", dodge=True) "
   ]
  },
  {
   "cell_type": "code",
   "execution_count": 18,
   "id": "5090c456",
   "metadata": {},
   "outputs": [
    {
     "name": "stdout",
     "output_type": "stream",
     "text": [
      "general\n",
      "Reconstruction Method      mean usdf    mean haus dist    RMS haus dist\n",
      "-----------------------  -----------  ----------------  ---------------\n",
      "point-to-plane            0.00258523       0.000907076       0.00145407\n",
      "robot-joints              0.00229762       0.00100571        0.00158859\n",
      "\n",
      "'Data'\n",
      "Reconstruction Method      mean usdf    mean haus dist    RMS haus dist\n",
      "-----------------------  -----------  ----------------  ---------------\n",
      "point-to-plane            0.00243453       0.000909623        0.0014017\n",
      "robot-joints              0.00336379       0.00145612         0.0021993\n",
      "\n",
      "'Data_stuck'\n",
      "Reconstruction Method      mean usdf    mean haus dist    RMS haus dist\n",
      "-----------------------  -----------  ----------------  ---------------\n",
      "point-to-plane            0.00273594       0.000904529      0.00150643\n",
      "robot-joints              0.00123146       0.000555293      0.000977875\n"
     ]
    }
   ],
   "source": [
    "print(\"general\")\n",
    "evaluate(recon_results_drop2)\n",
    "print(\"\\n'Data'\")\n",
    "evaluate(recon_results_drop2.loc[recon_results_drop2['Data Path'] == 'Data'])\n",
    "print(\"\\n'Data_stuck'\")\n",
    "evaluate(recon_results_drop2.loc[recon_results_drop2['Data Path'] == 'Data_stuck'])"
   ]
  },
  {
   "cell_type": "markdown",
   "id": "2f47e7cd",
   "metadata": {},
   "source": [
    "Brief conclusion:\\\n",
    "If reconstruction methods are performed on the object with significant features, point-to-plane ICP and robot-ee-info have the similar reconstruction performances generally.\\\n",
    "In detail, point-to-plane works better than robot-ee-info on the dataset generated by directly grasping('Data'), and it's opposite for the dataset generated by resetting the object within the gripper('Data_stuck')."
   ]
  },
  {
   "cell_type": "markdown",
   "id": "1ee0570a",
   "metadata": {},
   "source": [
    "## Segmented by BackFlow or by OSVOS"
   ]
  },
  {
   "cell_type": "code",
   "execution_count": 19,
   "id": "39cd7426",
   "metadata": {},
   "outputs": [
    {
     "name": "stdout",
     "output_type": "stream",
     "text": [
      "all objects\n",
      "Segmentation Method      mean usdf    mean haus dist    RMS haus dist\n",
      "---------------------  -----------  ----------------  ---------------\n",
      "BackFlow                 0.326978         0.00175713       0.00256824\n",
      "OSVOS                    0.0028245        0.00113329       0.00181441\n",
      "\n",
      "drop tennis ball\n",
      "Segmentation Method      mean usdf    mean haus dist    RMS haus dist\n",
      "---------------------  -----------  ----------------  ---------------\n",
      "BackFlow                0.0112672         0.00181425       0.00261059\n",
      "OSVOS                   0.00223075        0.00105622       0.00166401\n",
      "\n",
      "drop banana\n",
      "Segmentation Method      mean usdf    mean haus dist    RMS haus dist\n",
      "---------------------  -----------  ----------------  ---------------\n",
      "BackFlow                0.0026617        0.000823804       0.00130877\n",
      "OSVOS                   0.00222116       0.00108898        0.00173389\n"
     ]
    }
   ],
   "source": [
    "print(\"all objects\")\n",
    "evaluate(recon_results, type= 'Segmentation Method')\n",
    "print(\"\\ndrop tennis ball\")\n",
    "evaluate(recon_results_drop, type= 'Segmentation Method')\n",
    "print(\"\\ndrop banana\")\n",
    "evaluate(recon_results_drop2, type= 'Segmentation Method')"
   ]
  },
  {
   "cell_type": "markdown",
   "id": "9c630023",
   "metadata": {},
   "source": [
    "Brief conclusion:\\\n",
    "Segmentation Method influences the reconstruction performance. Generally, reconstruction following BackFlow has much worse performance than that following OSVOS."
   ]
  },
  {
   "cell_type": "markdown",
   "id": "4257ed5e",
   "metadata": {},
   "source": [
    "### BackFlow"
   ]
  },
  {
   "cell_type": "code",
   "execution_count": 20,
   "id": "ab8583be",
   "metadata": {},
   "outputs": [],
   "source": [
    "recon_results_backflow = recon_results_drop2[recon_results_drop2['Segmentation Method'] == 'BackFlow']"
   ]
  },
  {
   "cell_type": "code",
   "execution_count": 21,
   "id": "e459f76d",
   "metadata": {},
   "outputs": [
    {
     "data": {
      "text/plain": [
       "<AxesSubplot:xlabel='Reconstruction Method', ylabel='mean usdf'>"
      ]
     },
     "execution_count": 21,
     "metadata": {},
     "output_type": "execute_result"
    },
    {
     "data": {
      "image/png": "[encoded data removed]",
      "text/plain": [
       "<Figure size 864x576 with 1 Axes>"
      ]
     },
     "metadata": {
      "needs_background": "light"
     },
     "output_type": "display_data"
    }
   ],
   "source": [
    "sns.set_context({\"figure.figsize\":(12,8)})\n",
    "sns.stripplot(x=\"Reconstruction Method\",y=\"mean usdf\",data=recon_results_backflow,jitter=True,hue=\"Object Name\", dodge=True) "
   ]
  },
  {
   "cell_type": "code",
   "execution_count": 22,
   "id": "70da0980",
   "metadata": {},
   "outputs": [
    {
     "name": "stdout",
     "output_type": "stream",
     "text": [
      "general\n",
      "Reconstruction Method      mean usdf    mean haus dist    RMS haus dist\n",
      "-----------------------  -----------  ----------------  ---------------\n",
      "point-to-plane            0.00253778       0.000649172       0.00103541\n",
      "robot-joints              0.00278561       0.000998437       0.00158212\n",
      "\n",
      "'Data'\n",
      "Reconstruction Method      mean usdf    mean haus dist    RMS haus dist\n",
      "-----------------------  -----------  ----------------  ---------------\n",
      "point-to-plane             0.0028079       0.000701502       0.00108705\n",
      "robot-joints               0.0039568       0.00144841        0.0021999\n",
      "\n",
      "'Data_stuck'\n",
      "Reconstruction Method      mean usdf    mean haus dist    RMS haus dist\n",
      "-----------------------  -----------  ----------------  ---------------\n",
      "point-to-plane            0.00226766       0.000596841      0.000983779\n",
      "robot-joints              0.00161442       0.000548466      0.000964341\n"
     ]
    }
   ],
   "source": [
    "print(\"general\")\n",
    "evaluate(recon_results_backflow)\n",
    "print(\"\\n'Data'\")\n",
    "evaluate(recon_results_backflow.loc[recon_results_backflow['Data Path'] == 'Data'])\n",
    "print(\"\\n'Data_stuck'\")\n",
    "evaluate(recon_results_backflow.loc[recon_results_backflow['Data Path'] == 'Data_stuck'])"
   ]
  },
  {
   "cell_type": "markdown",
   "id": "1eddbb55",
   "metadata": {},
   "source": [
    "### OSVOS"
   ]
  },
  {
   "cell_type": "code",
   "execution_count": 23,
   "id": "2905209c",
   "metadata": {},
   "outputs": [],
   "source": [
    "recon_results_osvos = recon_results_drop2[recon_results_drop2['Segmentation Method'] == 'OSVOS']"
   ]
  },
  {
   "cell_type": "code",
   "execution_count": 24,
   "id": "46a8edb9",
   "metadata": {},
   "outputs": [
    {
     "data": {
      "text/plain": [
       "<AxesSubplot:xlabel='Reconstruction Method', ylabel='mean usdf'>"
      ]
     },
     "execution_count": 24,
     "metadata": {},
     "output_type": "execute_result"
    },
    {
     "data": {
      "image/png": "[encoded data removed]",
      "text/plain": [
       "<Figure size 864x576 with 1 Axes>"
      ]
     },
     "metadata": {
      "needs_background": "light"
     },
     "output_type": "display_data"
    }
   ],
   "source": [
    "sns.set_context({\"figure.figsize\":(12,8)})\n",
    "sns.stripplot(x=\"Reconstruction Method\",y=\"mean usdf\",data=recon_results_osvos,jitter=True,hue=\"Object Name\", dodge=True) "
   ]
  },
  {
   "cell_type": "code",
   "execution_count": 25,
   "id": "e731671f",
   "metadata": {},
   "outputs": [
    {
     "name": "stdout",
     "output_type": "stream",
     "text": [
      "general\n",
      "Reconstruction Method      mean usdf    mean haus dist    RMS haus dist\n",
      "-----------------------  -----------  ----------------  ---------------\n",
      "point-to-plane            0.00263268        0.00116498       0.00187272\n",
      "robot-joints              0.00180964        0.00101298       0.00159506\n",
      "\n",
      "'Data'\n",
      "Reconstruction Method      mean usdf    mean haus dist    RMS haus dist\n",
      "-----------------------  -----------  ----------------  ---------------\n",
      "point-to-plane            0.00206115        0.00111774       0.00171636\n",
      "robot-joints              0.00277078        0.00146383       0.0021987\n",
      "\n",
      "'Data_stuck'\n",
      "Reconstruction Method      mean usdf    mean haus dist    RMS haus dist\n",
      "-----------------------  -----------  ----------------  ---------------\n",
      "point-to-plane           0.00320421         0.00121222      0.00202908\n",
      "robot-joints             0.000848496        0.00056212      0.000991409\n"
     ]
    }
   ],
   "source": [
    "print(\"general\")\n",
    "evaluate(recon_results_osvos)\n",
    "print(\"\\n'Data'\")\n",
    "evaluate(recon_results_osvos.loc[recon_results_osvos['Data Path'] == 'Data'])\n",
    "print(\"\\n'Data_stuck'\")\n",
    "evaluate(recon_results_osvos.loc[recon_results_osvos['Data Path'] == 'Data_stuck'])"
   ]
  },
  {
   "cell_type": "markdown",
   "id": "838e3cb7",
   "metadata": {},
   "source": [
    "Brief conclusion:\\\n",
    "If reconstruction methods are performed on the object with significant features, point-to-plane ICP and robot-ee-info have the similar reconstruction performances when reconstruction is performed after BackFlow segmentation, and for OSVOS, robot-joints performs better. And the conclusions for 'Data' and 'Data_stuck' remain the same."
   ]
  }
 ],
 "metadata": {
  "kernelspec": {
   "display_name": "Python 3 (ipykernel)",
   "language": "python",
   "name": "python3"
  },
  "language_info": {
   "codemirror_mode": {
    "name": "ipython",
    "version": 3
   },
   "file_extension": ".py",
   "mimetype": "text/x-python",
   "name": "python",
   "nbconvert_exporter": "python",
   "pygments_lexer": "ipython3",
   "version": "3.8.11"
  }
 },
 "nbformat": 4,
 "nbformat_minor": 5
}
